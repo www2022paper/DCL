{
 "cells": [
  {
   "cell_type": "code",
   "execution_count": 1,
   "id": "4b5253fb-8c45-4439-9d6f-320a6ba5cf2d",
   "metadata": {},
   "outputs": [
    {
     "name": "stderr",
     "output_type": "stream",
     "text": [
      "2023-12-03 02:18:53.048591: I tensorflow/core/util/port.cc:111] oneDNN custom operations are on. You may see slightly different numerical results due to floating-point round-off errors from different computation orders. To turn them off, set the environment variable `TF_ENABLE_ONEDNN_OPTS=0`.\n",
      "2023-12-03 02:18:53.079605: E tensorflow/compiler/xla/stream_executor/cuda/cuda_dnn.cc:9342] Unable to register cuDNN factory: Attempting to register factory for plugin cuDNN when one has already been registered\n",
      "2023-12-03 02:18:53.079626: E tensorflow/compiler/xla/stream_executor/cuda/cuda_fft.cc:609] Unable to register cuFFT factory: Attempting to register factory for plugin cuFFT when one has already been registered\n",
      "2023-12-03 02:18:53.079657: E tensorflow/compiler/xla/stream_executor/cuda/cuda_blas.cc:1518] Unable to register cuBLAS factory: Attempting to register factory for plugin cuBLAS when one has already been registered\n",
      "2023-12-03 02:18:53.086163: I tensorflow/core/platform/cpu_feature_guard.cc:182] This TensorFlow binary is optimized to use available CPU instructions in performance-critical operations.\n",
      "To enable the following instructions: AVX2 AVX512F AVX512_VNNI AVX512_BF16 FMA, in other operations, rebuild TensorFlow with the appropriate compiler flags.\n",
      "2023-12-03 02:18:53.813844: W tensorflow/compiler/tf2tensorrt/utils/py_utils.cc:38] TF-TRT Warning: Could not find TensorRT\n"
     ]
    },
    {
     "name": "stdout",
     "output_type": "stream",
     "text": [
      "2.14.0\n",
      "CPU times: user 2.11 s, sys: 3.1 s, total: 5.21 s\n",
      "Wall time: 1.85 s\n"
     ]
    }
   ],
   "source": [
    "%%time\n",
    "\n",
    "import tensorflow as tf\n",
    "print(tf.__version__)\n",
    "import sys\n",
    "sys.path.append(\"..\")\n",
    "import pandas as pd\n",
    "import matplotlib.pyplot as plt\n",
    "from tensorflow.keras.callbacks import EarlyStopping\n",
    "import numpy as np\n",
    "\n",
    "\n",
    "def plot_loss(history, *losses):\n",
    "    for loss in losses:\n",
    "        plt.plot(history.history[loss], label=loss)\n",
    "    plt.xlabel('Epoch')\n",
    "    plt.ylabel('Loss')\n",
    "    plt.legend()\n",
    "    plt.grid(True)\n",
    "    plt.show()\n",
    "\n",
    "def scaling(x, min, max):\n",
    "    return np.where(x < min, 0.0, np.where(x > max, 1.0, (x - min) / (max - min)))\n",
    "\n",
    "early_stopping = EarlyStopping(\n",
    "    monitor='val_loss',  # \n",
    "    patience=500,        # \n",
    "    verbose=1,          # \n",
    "    mode='min',         # \n",
    "    restore_best_weights=True  # \n",
    ")"
   ]
  },
  {
   "cell_type": "code",
   "execution_count": 2,
   "id": "b71a2eef-9d0f-42af-8791-a15b3970e9eb",
   "metadata": {},
   "outputs": [],
   "source": [
    "SAVE_DIR = \"../data\"\n",
    "file_criteo = SAVE_DIR + \"/criteo-uplift-v2.1.csv\"\n",
    "df_criteo_ori = pd.read_csv(file_criteo, sep=',')"
   ]
  },
  {
   "cell_type": "code",
   "execution_count": 3,
   "id": "f39b4166-6354-4734-9c7b-02ca19d6be46",
   "metadata": {},
   "outputs": [
    {
     "data": {
      "text/html": [
       "<div>\n",
       "<style scoped>\n",
       "    .dataframe tbody tr th:only-of-type {\n",
       "        vertical-align: middle;\n",
       "    }\n",
       "\n",
       "    .dataframe tbody tr th {\n",
       "        vertical-align: top;\n",
       "    }\n",
       "\n",
       "    .dataframe thead th {\n",
       "        text-align: right;\n",
       "    }\n",
       "</style>\n",
       "<table border=\"1\" class=\"dataframe\">\n",
       "  <thead>\n",
       "    <tr style=\"text-align: right;\">\n",
       "      <th></th>\n",
       "      <th>f0</th>\n",
       "      <th>f1</th>\n",
       "      <th>f2</th>\n",
       "      <th>f3</th>\n",
       "      <th>f4</th>\n",
       "      <th>f5</th>\n",
       "      <th>f6</th>\n",
       "      <th>f7</th>\n",
       "      <th>f8</th>\n",
       "      <th>f9</th>\n",
       "      <th>f10</th>\n",
       "      <th>f11</th>\n",
       "      <th>treatment</th>\n",
       "      <th>conversion</th>\n",
       "      <th>visit</th>\n",
       "      <th>exposure</th>\n",
       "    </tr>\n",
       "  </thead>\n",
       "  <tbody>\n",
       "    <tr>\n",
       "      <th>count</th>\n",
       "      <td>1.397959e+07</td>\n",
       "      <td>1.397959e+07</td>\n",
       "      <td>1.397959e+07</td>\n",
       "      <td>1.397959e+07</td>\n",
       "      <td>1.397959e+07</td>\n",
       "      <td>1.397959e+07</td>\n",
       "      <td>1.397959e+07</td>\n",
       "      <td>1.397959e+07</td>\n",
       "      <td>1.397959e+07</td>\n",
       "      <td>1.397959e+07</td>\n",
       "      <td>1.397959e+07</td>\n",
       "      <td>1.397959e+07</td>\n",
       "      <td>1.397959e+07</td>\n",
       "      <td>1.397959e+07</td>\n",
       "      <td>1.397959e+07</td>\n",
       "      <td>1.397959e+07</td>\n",
       "    </tr>\n",
       "    <tr>\n",
       "      <th>mean</th>\n",
       "      <td>1.962030e+01</td>\n",
       "      <td>1.006998e+01</td>\n",
       "      <td>8.446582e+00</td>\n",
       "      <td>4.178923e+00</td>\n",
       "      <td>1.033884e+01</td>\n",
       "      <td>4.028513e+00</td>\n",
       "      <td>-4.155356e+00</td>\n",
       "      <td>5.101765e+00</td>\n",
       "      <td>3.933581e+00</td>\n",
       "      <td>1.602764e+01</td>\n",
       "      <td>5.333396e+00</td>\n",
       "      <td>-1.709672e-01</td>\n",
       "      <td>8.500001e-01</td>\n",
       "      <td>2.916680e-03</td>\n",
       "      <td>4.699200e-02</td>\n",
       "      <td>3.063122e-02</td>\n",
       "    </tr>\n",
       "    <tr>\n",
       "      <th>std</th>\n",
       "      <td>5.377464e+00</td>\n",
       "      <td>1.047557e-01</td>\n",
       "      <td>2.993161e-01</td>\n",
       "      <td>1.336645e+00</td>\n",
       "      <td>3.433081e-01</td>\n",
       "      <td>4.310974e-01</td>\n",
       "      <td>4.577914e+00</td>\n",
       "      <td>1.205248e+00</td>\n",
       "      <td>5.665958e-02</td>\n",
       "      <td>7.018975e+00</td>\n",
       "      <td>1.682288e-01</td>\n",
       "      <td>2.283277e-02</td>\n",
       "      <td>3.570713e-01</td>\n",
       "      <td>5.392748e-02</td>\n",
       "      <td>2.116217e-01</td>\n",
       "      <td>1.723164e-01</td>\n",
       "    </tr>\n",
       "    <tr>\n",
       "      <th>min</th>\n",
       "      <td>1.261636e+01</td>\n",
       "      <td>1.005965e+01</td>\n",
       "      <td>8.214383e+00</td>\n",
       "      <td>-8.398387e+00</td>\n",
       "      <td>1.028053e+01</td>\n",
       "      <td>-9.011892e+00</td>\n",
       "      <td>-3.142978e+01</td>\n",
       "      <td>4.833815e+00</td>\n",
       "      <td>3.635107e+00</td>\n",
       "      <td>1.319006e+01</td>\n",
       "      <td>5.300375e+00</td>\n",
       "      <td>-1.383941e+00</td>\n",
       "      <td>0.000000e+00</td>\n",
       "      <td>0.000000e+00</td>\n",
       "      <td>0.000000e+00</td>\n",
       "      <td>0.000000e+00</td>\n",
       "    </tr>\n",
       "    <tr>\n",
       "      <th>25%</th>\n",
       "      <td>1.261636e+01</td>\n",
       "      <td>1.005965e+01</td>\n",
       "      <td>8.214383e+00</td>\n",
       "      <td>4.679882e+00</td>\n",
       "      <td>1.028053e+01</td>\n",
       "      <td>4.115453e+00</td>\n",
       "      <td>-6.699321e+00</td>\n",
       "      <td>4.833815e+00</td>\n",
       "      <td>3.910792e+00</td>\n",
       "      <td>1.319006e+01</td>\n",
       "      <td>5.300375e+00</td>\n",
       "      <td>-1.686792e-01</td>\n",
       "      <td>1.000000e+00</td>\n",
       "      <td>0.000000e+00</td>\n",
       "      <td>0.000000e+00</td>\n",
       "      <td>0.000000e+00</td>\n",
       "    </tr>\n",
       "    <tr>\n",
       "      <th>50%</th>\n",
       "      <td>2.192341e+01</td>\n",
       "      <td>1.005965e+01</td>\n",
       "      <td>8.214383e+00</td>\n",
       "      <td>4.679882e+00</td>\n",
       "      <td>1.028053e+01</td>\n",
       "      <td>4.115453e+00</td>\n",
       "      <td>-2.411115e+00</td>\n",
       "      <td>4.833815e+00</td>\n",
       "      <td>3.971858e+00</td>\n",
       "      <td>1.319006e+01</td>\n",
       "      <td>5.300375e+00</td>\n",
       "      <td>-1.686792e-01</td>\n",
       "      <td>1.000000e+00</td>\n",
       "      <td>0.000000e+00</td>\n",
       "      <td>0.000000e+00</td>\n",
       "      <td>0.000000e+00</td>\n",
       "    </tr>\n",
       "    <tr>\n",
       "      <th>75%</th>\n",
       "      <td>2.443646e+01</td>\n",
       "      <td>1.005965e+01</td>\n",
       "      <td>8.723335e+00</td>\n",
       "      <td>4.679882e+00</td>\n",
       "      <td>1.028053e+01</td>\n",
       "      <td>4.115453e+00</td>\n",
       "      <td>2.944427e-01</td>\n",
       "      <td>4.833815e+00</td>\n",
       "      <td>3.971858e+00</td>\n",
       "      <td>1.319006e+01</td>\n",
       "      <td>5.300375e+00</td>\n",
       "      <td>-1.686792e-01</td>\n",
       "      <td>1.000000e+00</td>\n",
       "      <td>0.000000e+00</td>\n",
       "      <td>0.000000e+00</td>\n",
       "      <td>0.000000e+00</td>\n",
       "    </tr>\n",
       "    <tr>\n",
       "      <th>max</th>\n",
       "      <td>2.674526e+01</td>\n",
       "      <td>1.634419e+01</td>\n",
       "      <td>9.051962e+00</td>\n",
       "      <td>4.679882e+00</td>\n",
       "      <td>2.112351e+01</td>\n",
       "      <td>4.115453e+00</td>\n",
       "      <td>2.944427e-01</td>\n",
       "      <td>1.199840e+01</td>\n",
       "      <td>3.971858e+00</td>\n",
       "      <td>7.529502e+01</td>\n",
       "      <td>6.473917e+00</td>\n",
       "      <td>-1.686792e-01</td>\n",
       "      <td>1.000000e+00</td>\n",
       "      <td>1.000000e+00</td>\n",
       "      <td>1.000000e+00</td>\n",
       "      <td>1.000000e+00</td>\n",
       "    </tr>\n",
       "  </tbody>\n",
       "</table>\n",
       "</div>"
      ],
      "text/plain": [
       "                 f0            f1            f2            f3            f4  \\\n",
       "count  1.397959e+07  1.397959e+07  1.397959e+07  1.397959e+07  1.397959e+07   \n",
       "mean   1.962030e+01  1.006998e+01  8.446582e+00  4.178923e+00  1.033884e+01   \n",
       "std    5.377464e+00  1.047557e-01  2.993161e-01  1.336645e+00  3.433081e-01   \n",
       "min    1.261636e+01  1.005965e+01  8.214383e+00 -8.398387e+00  1.028053e+01   \n",
       "25%    1.261636e+01  1.005965e+01  8.214383e+00  4.679882e+00  1.028053e+01   \n",
       "50%    2.192341e+01  1.005965e+01  8.214383e+00  4.679882e+00  1.028053e+01   \n",
       "75%    2.443646e+01  1.005965e+01  8.723335e+00  4.679882e+00  1.028053e+01   \n",
       "max    2.674526e+01  1.634419e+01  9.051962e+00  4.679882e+00  2.112351e+01   \n",
       "\n",
       "                 f5            f6            f7            f8            f9  \\\n",
       "count  1.397959e+07  1.397959e+07  1.397959e+07  1.397959e+07  1.397959e+07   \n",
       "mean   4.028513e+00 -4.155356e+00  5.101765e+00  3.933581e+00  1.602764e+01   \n",
       "std    4.310974e-01  4.577914e+00  1.205248e+00  5.665958e-02  7.018975e+00   \n",
       "min   -9.011892e+00 -3.142978e+01  4.833815e+00  3.635107e+00  1.319006e+01   \n",
       "25%    4.115453e+00 -6.699321e+00  4.833815e+00  3.910792e+00  1.319006e+01   \n",
       "50%    4.115453e+00 -2.411115e+00  4.833815e+00  3.971858e+00  1.319006e+01   \n",
       "75%    4.115453e+00  2.944427e-01  4.833815e+00  3.971858e+00  1.319006e+01   \n",
       "max    4.115453e+00  2.944427e-01  1.199840e+01  3.971858e+00  7.529502e+01   \n",
       "\n",
       "                f10           f11     treatment    conversion         visit  \\\n",
       "count  1.397959e+07  1.397959e+07  1.397959e+07  1.397959e+07  1.397959e+07   \n",
       "mean   5.333396e+00 -1.709672e-01  8.500001e-01  2.916680e-03  4.699200e-02   \n",
       "std    1.682288e-01  2.283277e-02  3.570713e-01  5.392748e-02  2.116217e-01   \n",
       "min    5.300375e+00 -1.383941e+00  0.000000e+00  0.000000e+00  0.000000e+00   \n",
       "25%    5.300375e+00 -1.686792e-01  1.000000e+00  0.000000e+00  0.000000e+00   \n",
       "50%    5.300375e+00 -1.686792e-01  1.000000e+00  0.000000e+00  0.000000e+00   \n",
       "75%    5.300375e+00 -1.686792e-01  1.000000e+00  0.000000e+00  0.000000e+00   \n",
       "max    6.473917e+00 -1.686792e-01  1.000000e+00  1.000000e+00  1.000000e+00   \n",
       "\n",
       "           exposure  \n",
       "count  1.397959e+07  \n",
       "mean   3.063122e-02  \n",
       "std    1.723164e-01  \n",
       "min    0.000000e+00  \n",
       "25%    0.000000e+00  \n",
       "50%    0.000000e+00  \n",
       "75%    0.000000e+00  \n",
       "max    1.000000e+00  "
      ]
     },
     "execution_count": 3,
     "metadata": {},
     "output_type": "execute_result"
    }
   ],
   "source": [
    "df_criteo_ori.describe()"
   ]
  },
  {
   "cell_type": "code",
   "execution_count": 4,
   "id": "1ede53c9-b837-48dc-bc0f-440d9b223bc1",
   "metadata": {},
   "outputs": [
    {
     "name": "stdout",
     "output_type": "stream",
     "text": [
      "1467857 (1467857, 12) (524236, 12) 2096939 (104846, 12)\n",
      "CPU times: user 756 ms, sys: 172 ms, total: 928 ms\n",
      "Wall time: 927 ms\n"
     ]
    }
   ],
   "source": [
    "%%time\n",
    "\n",
    "sample = 0.15\n",
    "random_state=20220720\n",
    "df_criteo=df_criteo_ori.sample(frac=sample, random_state=random_state).reset_index(drop=True)\n",
    "X = df_criteo[['f0', 'f1', 'f2', 'f3', 'f4', 'f5', 'f6', 'f7', 'f8', 'f9', 'f10', 'f11']].values\n",
    "\n",
    "X[:, 0] = scaling(X[:, 0], min=np.min(X[:, 0]), max=np.max(X[:, 0]))\n",
    "X[:, 1] = scaling(X[:, 1], min=np.min(X[:, 1]), max=np.max(X[:, 1]))\n",
    "X[:, 2] = scaling(X[:, 2], min=np.min(X[:, 2]), max=np.max(X[:, 2]))\n",
    "X[:, 3] = scaling(X[:, 3], min=np.min(X[:, 3]), max=np.max(X[:, 3]))\n",
    "X[:, 4] = scaling(X[:, 4], min=np.min(X[:, 4]), max=np.max(X[:, 4]))\n",
    "X[:, 5] = scaling(X[:, 5], min=np.min(X[:, 5]), max=np.max(X[:, 5]))\n",
    "X[:, 6] = scaling(X[:, 6], min=np.min(X[:, 6]), max=np.max(X[:, 6]))\n",
    "X[:, 7] = scaling(X[:, 7], min=np.min(X[:, 7]), max=np.max(X[:, 7]))\n",
    "X[:, 8] = scaling(X[:, 8], min=np.min(X[:, 8]), max=np.max(X[:, 8]))\n",
    "X[:, 9] = scaling(X[:, 9], min=np.min(X[:, 9]), max=np.max(X[:, 9]))\n",
    "X[:, 10] = scaling(X[:, 10], min=np.min(X[:, 10]), max=np.max(X[:, 10]))\n",
    "X[:, 11] = scaling(X[:, 11], min=np.min(X[:, 11]), max=np.max(X[:, 11]))\n",
    "\n",
    "T = df_criteo['treatment'].values.reshape(-1, 1)\n",
    "Y_visit = df_criteo['visit'].values.reshape(-1, 1)\n",
    "Y_conv = df_criteo['conversion'].values.reshape(-1, 1)\n",
    "\n",
    "T.shape, Y_visit.shape, Y_conv.shape\n",
    "\n",
    "\n",
    "# calculate len\n",
    "train_len = int(len(X) * 0.70)\n",
    "cali_len = int(len(X) * 0.05)\n",
    "test_len = len(X) - train_len - cali_len\n",
    "\n",
    "# obtain train set\n",
    "X_train = X[:train_len, :]\n",
    "T_train = T[:train_len, :]\n",
    "Y_visit_train = Y_visit[:train_len, :]\n",
    "Y_conv_train = Y_conv[:train_len, :]\n",
    "\n",
    "# obtain calibration set\n",
    "X_cali = X[train_len:train_len+cali_len, :]\n",
    "T_cali = T[train_len:train_len+cali_len, :]\n",
    "Y_visit_cali = Y_visit[train_len:train_len+cali_len, :]\n",
    "Y_conv_cali = Y_conv[train_len:train_len+cali_len, :]\n",
    "\n",
    "# obtain test set\n",
    "X_test = X[train_len+cali_len:, :]\n",
    "T_test = T[train_len+cali_len:, :]\n",
    "Y_visit_test = Y_visit[train_len+cali_len:, :]\n",
    "Y_conv_test = Y_conv[train_len+cali_len:, :]\n",
    "\n",
    "print(train_len, X_train.shape, X_test.shape, len(X), X_cali.shape)\n",
    "\n",
    "# make covariate shift\n",
    "# condition_cali = (X_cali[:, 0] > 0.3) & (X_cali[:, 1] < 0.7)\n",
    "# X_cali = X_cali[condition_cali]\n",
    "# T_cali = T_cali[condition_cali]\n",
    "# Y_visit_cali = Y_visit_cali[condition_cali]\n",
    "# Y_conv_cali = Y_conv_cali[condition_cali]\n",
    "\n",
    "# condition_test = (X_test[:, 0] > 0.3) & (X_test[:, 1] < 0.7)\n",
    "# X_test = X_test[condition_test]\n",
    "# T_test = T_test[condition_test]\n",
    "# Y_visit_test = Y_visit_test[condition_test]\n",
    "# Y_conv_test = Y_conv_test[condition_test]\n",
    "\n",
    "# print(train_len, X_train.shape, X_test.shape, len(X), X_cali.shape)"
   ]
  },
  {
   "cell_type": "markdown",
   "id": "24e46bfb-1c9e-47d3-805e-c3169fe3a117",
   "metadata": {},
   "source": [
    "# First, on the train set:"
   ]
  },
  {
   "cell_type": "markdown",
   "id": "b78b1270-59d6-415a-9aaf-0a7b4ef2417e",
   "metadata": {},
   "source": [
    "### (i) Train DRP model"
   ]
  },
  {
   "cell_type": "code",
   "execution_count": 12,
   "id": "c639e328-aeca-487e-aa7d-9978da14d9ed",
   "metadata": {},
   "outputs": [
    {
     "name": "stdout",
     "output_type": "stream",
     "text": [
      "iteration =  1\n",
      "Restoring model weights from the end of the best epoch: 2338.\n",
      "Epoch 2838: early stopping\n"
     ]
    },
    {
     "data": {
      "image/png": "[encoded data removed]",
      "text/plain": [
       "<Figure size 640x480 with 1 Axes>"
      ]
     },
     "metadata": {},
     "output_type": "display_data"
    },
    {
     "name": "stdout",
     "output_type": "stream",
     "text": [
      "CPU times: user 1h 21min 23s, sys: 3min 26s, total: 1h 24min 49s\n",
      "Wall time: 12min 18s\n"
     ]
    }
   ],
   "source": [
    "%%time\n",
    "# DPR on train set\n",
    "sys.path.append(\"..\")\n",
    "from model.uplift_model import *\n",
    "\n",
    "count = 1\n",
    "# 2.5e-5\n",
    "import keras\n",
    "import keras.backend as K\n",
    "import tensorflow as tf\n",
    "from keras.callbacks import LearningRateScheduler\n",
    "from keras.callbacks import ReduceLROnPlateau\n",
    "from model.roi_model import *\n",
    "\n",
    "# final_model = get_roi_rank_criteo_model()\n",
    "# final_model.compile(loss=None, optimizer='adam')\n",
    "#lambda y_true,y_pred: y_pred\n",
    "# print('trainable_weights')\n",
    "# for x in final_model.trainable_weights:\n",
    "#     print(x.name)\n",
    "# print('non_trainable_weights')\n",
    "# for x in final_model.non_trainable_weights:\n",
    "#     print(x.name)\n",
    "# final_model.summary()\n",
    "\n",
    "for i in range(count):\n",
    "\n",
    "    print(\"iteration = \", i + 1)\n",
    "    \n",
    "    final_model = get_roi_rank_criteo_model()\n",
    "    final_model.compile(loss=None, optimizer='adam')\n",
    "\n",
    "    mcp_save = ModelCheckpoint('../model_file/roi/criteo/final_model/roi_rank/roi_rank_criteo_model_{}_{}.h5'.format(i+1, sample), save_best_only=False, monitor='val_loss', mode='min', save_weights_only=True)\n",
    "    history = final_model.fit([X_train, T_train, Y_conv_train, Y_visit_train], validation_split=0.2, epochs=10000, batch_size=10000000, shuffle=True, verbose=0, callbacks=[mcp_save, early_stopping])\n",
    "    plot_loss(history, \"loss\", \"val_loss\", \"obj\", \"val_obj\")"
   ]
  },
  {
   "cell_type": "markdown",
   "id": "64a19cce-248a-406a-96fb-e5c8c7a7bc20",
   "metadata": {},
   "source": [
    "# Second, on the calibration set:"
   ]
  },
  {
   "cell_type": "markdown",
   "id": "82bd3a25-5f42-4b9f-ba38-f83636a60b5e",
   "metadata": {},
   "source": [
    "### (i) Infer DRP model to obtain $\\hat{roi}$."
   ]
  },
  {
   "cell_type": "code",
   "execution_count": 5,
   "id": "25db587d-e5af-4f80-a6b4-021b99d92d10",
   "metadata": {},
   "outputs": [
    {
     "name": "stdout",
     "output_type": "stream",
     "text": [
      "iteration =  1\n"
     ]
    },
    {
     "name": "stderr",
     "output_type": "stream",
     "text": [
      "2023-12-03 02:19:29.231235: I tensorflow/core/common_runtime/gpu/gpu_device.cc:1886] Created device /job:localhost/replica:0/task:0/device:GPU:0 with 22287 MB memory:  -> device: 0, name: NVIDIA GeForce RTX 4090, pci bus id: 0000:c2:00.0, compute capability: 8.9\n"
     ]
    },
    {
     "name": "stdout",
     "output_type": "stream",
     "text": [
      "cali\n",
      "3277/3277 [==============================] - 4s 991us/step\n",
      "AUCC =  0.7937189134815298\n",
      "\n",
      "\n",
      "CPU times: user 7.27 s, sys: 877 ms, total: 8.15 s\n",
      "Wall time: 5.57 s\n"
     ]
    }
   ],
   "source": [
    "%%time\n",
    "import sklearn \n",
    "import sklearn.metrics\n",
    "from metric.Metric import *\n",
    "sys.path.append(\"..\")\n",
    "from model.roi_model import *\n",
    "\n",
    "count = 1\n",
    "\n",
    "DRP_aucc_cali_list = []\n",
    "roi_rank_pre_cali_list = []\n",
    "for i in range(count):\n",
    "    \n",
    "    print(\"iteration = \", i + 1)\n",
    "    \n",
    "    final_model = get_roi_rank_criteo_model()\n",
    "    final_model.load_weights('../model_file/roi/criteo/final_model/roi_rank/roi_rank_criteo_model_{}_{}.h5'.format(i+1, sample))\n",
    "\n",
    "    print(\"cali\")\n",
    "    roi_rank_pre_cali = final_model.predict([X_cali, T_cali, Y_conv_cali, Y_visit_cali])\n",
    "    DRP_aucc = get_uplift_model_aucc_no_show(t=(T_cali > 0.5).flatten(), y_reward=Y_conv_cali.flatten(), y_cost=Y_visit_cali.flatten(), roi_pred=roi_rank_pre_cali.flatten(), quantile=200)\n",
    "    roi_rank_pre_cali_list.append(roi_rank_pre_cali)\n",
    "    DRP_aucc_cali_list.append(DRP_aucc)\n",
    "    \n",
    "    print(\"\\n\")"
   ]
  },
  {
   "cell_type": "markdown",
   "id": "708cc4d5-b06c-489a-84ce-c6c2926f486f",
   "metadata": {},
   "source": [
    "### (ii) Calculate $roi^*$ by Algorithm 2."
   ]
  },
  {
   "cell_type": "code",
   "execution_count": 8,
   "id": "7a0c283d-efa7-4633-a026-4ed9ee244b8c",
   "metadata": {},
   "outputs": [
    {
     "name": "stderr",
     "output_type": "stream",
     "text": [
      "/tmp/ipykernel_2366/1185985485.py:17: DeprecationWarning: scipy.misc.derivative is deprecated in SciPy v1.10.0; and will be completely removed in SciPy v1.12.0. You may consider using findiff: https://github.com/maroba/findiff or numdifftools: https://github.com/pbrod/numdifftools\n",
      "  deriv = derivative(func_fixed_y, si, dx=1e-6)\n"
     ]
    }
   ],
   "source": [
    "import numpy as np\n",
    "from scipy.misc import derivative\n",
    "from scipy.special import expit as sigmoid\n",
    "from scipy.special import logit\n",
    "\n",
    "def func(ti, yr, yc, si):\n",
    "    qi = sigmoid(si)\n",
    "    if ti == 1:\n",
    "        return - yr*np.log(qi/(1-qi)) - yc*np.log(1-qi)\n",
    "    else:\n",
    "        return yr*np.log(qi/(1-qi)) + yc*np.log(1-qi)\n",
    "\n",
    "    \n",
    "def derivative_values(ti, yr, yc, si):\n",
    "    def func_fixed_y(si_val):\n",
    "        return func(ti, yr, yc, si_val)\n",
    "    deriv = derivative(func_fixed_y, si, dx=1e-6)\n",
    "    return deriv\n",
    "\n",
    "\n",
    "def bst(ti, yr, yc):\n",
    "    epsilon = 1e-5\n",
    "    # corner case\n",
    "    if yr == 0:\n",
    "        return epsilon\n",
    "    elif yc == 0:\n",
    "        return 1 - epsilon\n",
    "    \n",
    "    roi_l = 0.0\n",
    "    roi_r = 1.0\n",
    "    roi_star = (roi_l + roi_r) / 2\n",
    "    \n",
    "\n",
    "    while np.abs(roi_r - roi_l) > epsilon:\n",
    "        derivatives_at_si = derivative_values(ti, yr, yc, logit(roi_star))\n",
    "        if np.abs(derivatives_at_si) < epsilon:\n",
    "            break\n",
    "        if derivatives_at_si > 0:\n",
    "            roi_r = roi_star\n",
    "        else:\n",
    "            roi_l = roi_star\n",
    "        roi_star = (roi_l + roi_r) / 2\n",
    "    return roi_star\n",
    "\n",
    "\n",
    "results = np.zeros(T_cali.shape)\n",
    "\n",
    "# iterate\n",
    "for i in range(T_cali.shape[0]):\n",
    "    # call bst\n",
    "    results[i] = bst(T_cali[i], Y_conv_cali[i], Y_visit_cali[i])"
   ]
  },
  {
   "cell_type": "code",
   "execution_count": 9,
   "id": "b2db71b3-3193-4045-a266-77ab9a397757",
   "metadata": {},
   "outputs": [],
   "source": [
    "delta_roi = np.abs(results - roi_rank_pre_cali)"
   ]
  },
  {
   "cell_type": "code",
   "execution_count": 10,
   "id": "ca65dcfd-caea-4361-a714-47deb3e2b29d",
   "metadata": {},
   "outputs": [
    {
     "data": {
      "text/plain": [
       "array([2.00844839e-04, 2.01687860e-04, 2.02474275e-04, ...,\n",
       "       9.98941086e-01, 9.99143839e-01, 9.99593437e-01])"
      ]
     },
     "execution_count": 10,
     "metadata": {},
     "output_type": "execute_result"
    }
   ],
   "source": [
    "np.unique(delta_roi)"
   ]
  },
  {
   "cell_type": "markdown",
   "id": "8284cd2b-4200-48b5-89c6-05fa692959e2",
   "metadata": {},
   "source": [
    "### (iii) Infer DRP's MC Dropout model to obtain $\\hat{r}(x)$."
   ]
  },
  {
   "cell_type": "code",
   "execution_count": 6,
   "id": "07ac30fa-88d9-43f3-99fd-a5ae34e34f72",
   "metadata": {},
   "outputs": [
    {
     "name": "stdout",
     "output_type": "stream",
     "text": [
      "iteration =  1\n",
      "0\n",
      "cali\n",
      "3277/3277 [==============================] - 4s 1ms/step\n",
      "AUCC =  0.7162461709482211\n",
      "1\n",
      "cali\n",
      "3277/3277 [==============================] - 3s 997us/step\n",
      "AUCC =  0.7512793598011233\n",
      "2\n",
      "cali\n",
      "3277/3277 [==============================] - 3s 1ms/step\n",
      "AUCC =  0.752255592610034\n",
      "3\n",
      "cali\n",
      "3277/3277 [==============================] - 3s 1ms/step\n",
      "AUCC =  0.7461815680131217\n",
      "4\n",
      "cali\n",
      "3277/3277 [==============================] - 3s 977us/step\n",
      "AUCC =  0.7638952244572373\n",
      "5\n",
      "cali\n",
      "3277/3277 [==============================] - 3s 1ms/step\n",
      "AUCC =  0.7921258549493357\n",
      "6\n",
      "cali\n",
      "3277/3277 [==============================] - 3s 1ms/step\n",
      "AUCC =  0.7848797224438017\n",
      "7\n",
      "cali\n",
      "3277/3277 [==============================] - 4s 1ms/step\n",
      "AUCC =  0.762364981275208\n",
      "8\n",
      "cali\n",
      "3277/3277 [==============================] - 3s 1ms/step\n",
      "AUCC =  0.8005626727918682\n",
      "9\n",
      "cali\n",
      "3277/3277 [==============================] - 3s 1ms/step\n",
      "AUCC =  0.7560389072025576\n",
      "\n",
      "\n",
      "CPU times: user 1min 1s, sys: 4.94 s, total: 1min 6s\n",
      "Wall time: 41.1 s\n"
     ]
    },
    {
     "name": "stderr",
     "output_type": "stream",
     "text": [
      "/root/miniconda3/lib/python3.10/site-packages/numpy/core/fromnumeric.py:3504: RuntimeWarning: Mean of empty slice.\n",
      "  return _methods._mean(a, axis=axis, dtype=dtype,\n",
      "/root/miniconda3/lib/python3.10/site-packages/numpy/core/_methods.py:129: RuntimeWarning: invalid value encountered in divide\n",
      "  ret = ret.dtype.type(ret / rcount)\n"
     ]
    }
   ],
   "source": [
    "%%time\n",
    "import sklearn \n",
    "import sklearn.metrics\n",
    "from metric.Metric import *\n",
    "from concurrent.futures import ProcessPoolExecutor\n",
    "\n",
    "DRP_aucc_cali_mc_list = []\n",
    "\n",
    "for i in range(count):\n",
    "    \n",
    "    print(\"iteration = \", i + 1)\n",
    "    \n",
    "    final_model = get_roi_rank_criteo_model_with_dropout()\n",
    "    final_model.load_weights('../model_file/roi/criteo/final_model/roi_rank/roi_rank_criteo_model_{}_{}.h5'.format(i+1, sample))\n",
    "\n",
    "    # multiple prediction\n",
    "    n_iterations = 10\n",
    "    all_predictions_cali = []\n",
    "    \n",
    "    for j in range(n_iterations):\n",
    "        print(j)\n",
    "        \n",
    "        print(\"cali\")\n",
    "        predictions = final_model.predict([X_cali, T_cali, Y_conv_cali, Y_visit_cali])\n",
    "        all_predictions_cali.append(predictions)\n",
    "        DRP_aucc = get_uplift_model_aucc_no_show(t=(T_cali > 0.5).flatten(), y_reward=Y_conv_cali.flatten(), y_cost=Y_visit_cali.flatten(), roi_pred=predictions.flatten(), quantile=200)\n",
    "        DRP_aucc_cali_list.append(DRP_aucc[0])\n",
    "    \n",
    "    print(\"\\n\")\n",
    "    \n",
    "# obtain mean and std\n",
    "mean_pred = np.mean(all_predictions_cali, axis=0)\n",
    "std_pred = np.std(all_predictions_cali, axis=0)\n"
   ]
  },
  {
   "cell_type": "markdown",
   "id": "e5f0ba50-0b10-4471-ba89-964fd3454008",
   "metadata": {},
   "source": [
    "### (iv) Calculate $\\hat{q}$ by Algorithm 3"
   ]
  },
  {
   "cell_type": "code",
   "execution_count": 12,
   "id": "fec5c6bf-ab40-4a2e-961d-0b55782ddb0f",
   "metadata": {},
   "outputs": [],
   "source": [
    "# Get scores\n",
    "cal_scores = delta_roi/(std_pred + 1e-5)\n",
    "n = len(cal_scores)\n",
    "\n",
    "# set the error rate\n",
    "alpha = 0.20\n",
    "# Get the score quantile\n",
    "qhat = np.quantile(cal_scores, np.ceil((n+1)*(1-alpha))/n, interpolation='higher')"
   ]
  },
  {
   "cell_type": "code",
   "execution_count": 13,
   "id": "32d8bc61-40a4-4322-a798-93254395b345",
   "metadata": {},
   "outputs": [
    {
     "data": {
      "text/plain": [
       "6.427597468030599"
      ]
     },
     "execution_count": 13,
     "metadata": {},
     "output_type": "execute_result"
    }
   ],
   "source": [
    "qhat"
   ]
  },
  {
   "cell_type": "markdown",
   "id": "d2375d8c-26b5-4a6d-9ee4-b6e6dc661259",
   "metadata": {},
   "source": [
    "### (v) Select $\\widetilde{roi}$'s equation form from 5a to 5c."
   ]
  },
  {
   "cell_type": "code",
   "execution_count": 37,
   "id": "ef918bc8-6c7b-4615-8ab2-32fd89dc0763",
   "metadata": {},
   "outputs": [
    {
     "name": "stdout",
     "output_type": "stream",
     "text": [
      "AUCC =  0.6844843490211532\n"
     ]
    }
   ],
   "source": [
    "# For mc only\n",
    "\n",
    "\n",
    "ROI_1 = roi_rank_pre_cali*(4.666666*roi_rank_pre_cali + std_pred) # AUCC \n",
    "ROI_2 = roi_rank_pre_cali/(std_pred + 1e5)\n",
    "ROI_3 = 0.4*roi_rank_pre_cali + std_pred\n",
    "DRP_aucc_cali = get_uplift_model_aucc_no_show(t=(T_cali > 0.5).flatten(), y_reward=Y_conv_cali.flatten(), y_cost=Y_visit_cali.flatten(), roi_pred=ROI_3.flatten(), quantile=200)"
   ]
  },
  {
   "cell_type": "code",
   "execution_count": 16,
   "id": "64d0e456-2cb1-4742-a4ff-f8cd4edd460e",
   "metadata": {},
   "outputs": [
    {
     "name": "stdout",
     "output_type": "stream",
     "text": [
      "AUCC =  0.7713131797547996\n"
     ]
    }
   ],
   "source": [
    "ROI_1 = roi_rank_pre_cali*(12*roi_rank_pre_cali + qhat*std_pred) # AUCC \n",
    "ROI_2 = roi_rank_pre_cali/(qhat*std_pred + 1e5)\n",
    "ROI_3 = (2.92*qhat*std_pred + qhat*std_pred) #\n",
    "DRP_aucc_cali = get_uplift_model_aucc_no_show(t=(T_cali > 0.5).flatten(), y_reward=Y_conv_cali.flatten(), y_cost=Y_visit_cali.flatten(), roi_pred=ROI_1.flatten(), quantile=200)"
   ]
  },
  {
   "cell_type": "markdown",
   "id": "8fadec16-d9e2-46a5-828c-ef1e28173b1b",
   "metadata": {},
   "source": [
    "# Third, on the test set:"
   ]
  },
  {
   "cell_type": "markdown",
   "id": "9f233062-4bbe-4a6e-a409-9bb53bf33de6",
   "metadata": {},
   "source": [
    "### (i) Infer DRP model to obtain $\\hat{roi}$."
   ]
  },
  {
   "cell_type": "code",
   "execution_count": 7,
   "id": "02885d2f-e603-4282-ab52-e287125bc6b1",
   "metadata": {},
   "outputs": [
    {
     "name": "stdout",
     "output_type": "stream",
     "text": [
      "iteration =  1\n",
      "16383/16383 [==============================] - 16s 971us/step\n",
      "AUCC =  0.6221999676839751\n",
      "\n",
      "\n"
     ]
    }
   ],
   "source": [
    "import sklearn \n",
    "import sklearn.metrics\n",
    "from metric.Metric import *\n",
    "\n",
    "count = 1\n",
    "sample = 0.15\n",
    "\n",
    "DRP_aucc_test_list = []\n",
    "roi_rank_pre_test_list = []\n",
    "for i in range(count):\n",
    "    \n",
    "    print(\"iteration = \", i + 1)\n",
    "    \n",
    "    final_model = get_roi_rank_criteo_model()\n",
    "    final_model.load_weights('../model_file/roi/criteo/final_model/roi_rank/roi_rank_criteo_model_{}_{}.h5'.format(i+1, sample))\n",
    "\n",
    "    roi_rank_pre_test = final_model.predict([X_test, T_test, Y_conv_test, Y_visit_test])\n",
    "    roi_rank_pre_test_list.append(roi_rank_pre_test)\n",
    "    DRP_aucc = get_uplift_model_aucc_no_show(t=(T_test > 0.5).flatten(), y_reward=Y_conv_test.flatten(), y_cost=Y_visit_test.flatten(), roi_pred=roi_rank_pre_test.flatten(), quantile=200)\n",
    "    DRP_aucc_test_list.append(DRP_aucc)\n",
    "    \n",
    "    print(\"\\n\")"
   ]
  },
  {
   "cell_type": "code",
   "execution_count": 8,
   "id": "2ae3c129-c2a1-4830-95f2-5838be98e742",
   "metadata": {},
   "outputs": [
    {
     "name": "stdout",
     "output_type": "stream",
     "text": [
      "aucc =  0.6221999676839751\n"
     ]
    }
   ],
   "source": [
    "# store test aucc for pic \n",
    "import pandas as pd\n",
    "\n",
    "def get_aucc_cost_curve(aucc_list):\n",
    "    delta_cost_list_group = np.array([aucc[1] for aucc in aucc_list])\n",
    "    delta_reward_list_group = np.array([aucc[2] for aucc in aucc_list])\n",
    "    \n",
    "    avg_delta_cost_list = np.mean(delta_cost_list_group, axis=0)\n",
    "    avg_delta_reward_list = np.mean(delta_reward_list_group, axis=0)\n",
    "    \n",
    "    df_aucc_cost_curve = pd.DataFrame(avg_delta_cost_list, columns=['delta_cost'])\n",
    "    df_aucc_cost_curve['delta_reward'] = avg_delta_reward_list\n",
    "    \n",
    "    return df_aucc_cost_curve\n",
    "\n",
    "DRP_avg_aucc_cost_curve = get_aucc_cost_curve(DRP_aucc_test_list)\n",
    "print(\"aucc = \", np.sum(DRP_avg_aucc_cost_curve['delta_reward'].values) / (DRP_avg_aucc_cost_curve['delta_reward'].values[-1] * 201))\n",
    "DRP_avg_aucc_cost_curve.to_csv(\"../figure/c_DRP_avg_aucc_cost_curve_0.15.csv\")"
   ]
  },
  {
   "cell_type": "markdown",
   "id": "bea3e188-7e5d-4116-8dfd-a2a8a7faf3f8",
   "metadata": {},
   "source": [
    "### (ii) Infer DRP's MC Dropout to obtain $\\hat{r}(x)$."
   ]
  },
  {
   "cell_type": "code",
   "execution_count": 26,
   "id": "f8b85f09-677c-42af-a4d9-2b54d4f85c3d",
   "metadata": {},
   "outputs": [
    {
     "name": "stdout",
     "output_type": "stream",
     "text": [
      "iteration =  1\n",
      "0\n",
      "test\n",
      "16383/16383 [==============================] - 17s 1ms/step\n",
      "AUCC =  0.5791167583896317\n",
      "1\n",
      "test\n",
      "16383/16383 [==============================] - 17s 1ms/step\n",
      "AUCC =  0.6128956479559122\n",
      "2\n",
      "test\n",
      "16383/16383 [==============================] - 17s 1ms/step\n",
      "AUCC =  0.6294496743130886\n",
      "3\n",
      "test\n",
      "16383/16383 [==============================] - 17s 1ms/step\n",
      "AUCC =  0.6225846900883865\n",
      "4\n",
      "test\n",
      "16383/16383 [==============================] - 17s 1ms/step\n",
      "AUCC =  0.6134553276193331\n",
      "5\n",
      "test\n",
      "16383/16383 [==============================] - 17s 1ms/step\n",
      "AUCC =  0.6373679756823337\n",
      "6\n",
      "test\n",
      "16383/16383 [==============================] - 17s 1ms/step\n",
      "AUCC =  0.6098363469590958\n",
      "7\n",
      "test\n",
      "16383/16383 [==============================] - 17s 1ms/step\n",
      "AUCC =  0.6072724699388967\n",
      "8\n",
      "test\n",
      "16383/16383 [==============================] - 17s 1ms/step\n",
      "AUCC =  0.603533617229409\n",
      "9\n",
      "test\n",
      "16383/16383 [==============================] - 17s 1ms/step\n",
      "AUCC =  0.6290123528052333\n",
      "\n",
      "\n",
      "1701542751.6658938\n",
      "CPU times: user 4min 56s, sys: 22.8 s, total: 5min 19s\n",
      "Wall time: 3min 23s\n"
     ]
    }
   ],
   "source": [
    "%%time\n",
    "import time\n",
    "import sklearn \n",
    "import sklearn.metrics\n",
    "from metric.Metric import *\n",
    "from concurrent.futures import ProcessPoolExecutor\n",
    "sys.path.append(\"..\")\n",
    "from model.uplift_model import *\n",
    "from model.roi_model import *\n",
    "\n",
    "\n",
    "count = 1\n",
    "sample = 0.15\n",
    "\n",
    "DRP_aucc_test_mc_list = []\n",
    "\n",
    "for i in range(count):\n",
    "    \n",
    "    print(\"iteration = \", i + 1)\n",
    "    \n",
    "    final_model = get_roi_rank_criteo_model_with_dropout()\n",
    "    final_model.load_weights('../model_file/roi/criteo/final_model/roi_rank/roi_rank_criteo_model_{}_{}.h5'.format(i+1, sample))\n",
    "\n",
    "    # multiple prediction\n",
    "    n_iterations = 10\n",
    "    all_predictions_test = []\n",
    "    \n",
    "    for j in range(n_iterations):\n",
    "        print(j)\n",
    "        \n",
    "        print(\"test\")\n",
    "        predictions = final_model.predict([X_test, T_test, Y_conv_test, Y_visit_test])\n",
    "        all_predictions_test.append(predictions)\n",
    "        DRP_aucc_mc = get_uplift_model_aucc_no_show(t=(T_test > 0.5).flatten(), y_reward=Y_conv_test.flatten(), y_cost=Y_visit_test.flatten(), roi_pred=predictions.flatten(), quantile=200)\n",
    "        DRP_aucc_test_mc_list.append(DRP_aucc_mc[0])\n",
    "    \n",
    "    print(\"\\n\")\n",
    "    \n",
    "# cal std and mean\n",
    "mean_pred_test = np.mean(all_predictions_test, axis=0)\n",
    "std_pred_test = np.std(all_predictions_test, axis=0)\n",
    "\n",
    "end_time = time.time()\n",
    "print(end_time)"
   ]
  },
  {
   "cell_type": "code",
   "execution_count": null,
   "id": "eaa3744d-6ef4-46e1-946a-5abf19fda79e",
   "metadata": {},
   "outputs": [],
   "source": []
  },
  {
   "cell_type": "markdown",
   "id": "c729ede8-1c81-4ceb-8424-5903a6fec6e5",
   "metadata": {},
   "source": [
    "### (iii) With $\\hat{q}$  and the selected expression, $\\widetilde{roi}(x_{test})$ is obtained."
   ]
  },
  {
   "cell_type": "code",
   "execution_count": 38,
   "id": "bff7e69e-4d36-4db4-b1d8-98e3a8bf69d1",
   "metadata": {},
   "outputs": [
    {
     "name": "stdout",
     "output_type": "stream",
     "text": [
      "AUCC =  0.6332864629454273\n",
      "aucc =  0.6332864629454273\n"
     ]
    }
   ],
   "source": [
    "# calculate DRP-MC aucc\n",
    "rDRP_aucc_test_list = []\n",
    "ROI_1 = (0.4*roi_rank_pre_test + std_pred_test) # \n",
    "rDRP_aucc = get_uplift_model_aucc_no_show(t=(T_test > 0.5).flatten(), y_reward=Y_conv_test.flatten(), y_cost=Y_visit_test.flatten(), roi_pred=ROI_1.flatten(), quantile=200)\n",
    "rDRP_aucc_test_list.append(rDRP_aucc)\n",
    "\n",
    "# save DRP-MC AUCC result\n",
    "\n",
    "rDRP_avg_aucc_cost_curve = get_aucc_cost_curve(rDRP_aucc_test_list)\n",
    "print(\"aucc = \", np.sum(rDRP_avg_aucc_cost_curve['delta_reward'].values) / (rDRP_avg_aucc_cost_curve['delta_reward'].values[-1] * 201))\n",
    "rDRP_avg_aucc_cost_curve.to_csv(\"../figure/c_DRP_MC_avg_aucc_cost_curve_0.15.csv\")"
   ]
  },
  {
   "cell_type": "code",
   "execution_count": 49,
   "id": "e2e132a8-ba2d-4206-b8ee-c68e77b85a77",
   "metadata": {},
   "outputs": [
    {
     "name": "stdout",
     "output_type": "stream",
     "text": [
      "AUCC =  0.6509460584429089\n",
      "aucc =  0.6509460584429089\n"
     ]
    }
   ],
   "source": [
    "# calculate rDRP aucc\n",
    "rDRP_aucc_test_list = []\n",
    "ROI_1 = (4.226*roi_rank_pre_test + qhat*std_pred_test) # \n",
    "rDRP_aucc = get_uplift_model_aucc_no_show(t=(T_test > 0.5).flatten(), y_reward=Y_conv_test.flatten(), y_cost=Y_visit_test.flatten(), roi_pred=ROI_1.flatten(), quantile=200)\n",
    "rDRP_aucc_test_list.append(rDRP_aucc)\n",
    "\n",
    "# save rDRP AUCC result\n",
    "\n",
    "rDRP_avg_aucc_cost_curve = get_aucc_cost_curve(rDRP_aucc_test_list)\n",
    "print(\"aucc = \", np.sum(rDRP_avg_aucc_cost_curve['delta_reward'].values) / (rDRP_avg_aucc_cost_curve['delta_reward'].values[-1] * 201))\n",
    "rDRP_avg_aucc_cost_curve.to_csv(\"../figure/rDRP_avg_aucc_cost_curve_0.15.csv\")"
   ]
  },
  {
   "cell_type": "markdown",
   "id": "027d2aa9-06f1-48d1-8454-986325bb0aa3",
   "metadata": {},
   "source": [
    "# Finally, output: pics and results"
   ]
  },
  {
   "cell_type": "code",
   "execution_count": 50,
   "id": "5e661b1e-7ce0-4022-80ee-b66d379adec9",
   "metadata": {},
   "outputs": [
    {
     "name": "stdout",
     "output_type": "stream",
     "text": [
      "DRP aucc: 0.6222\n",
      "rDRP aucc: 0.6509\n",
      "4.62%\n"
     ]
    },
    {
     "data": {
      "image/png": "[encoded data removed]",
      "text/plain": [
       "<Figure size 640x480 with 1 Axes>"
      ]
     },
     "metadata": {},
     "output_type": "display_data"
    }
   ],
   "source": [
    "# output pic\n",
    "\n",
    "import matplotlib.pyplot as plt\n",
    "import numpy as np\n",
    "import pandas as pd\n",
    "\n",
    "DRP_avg_aucc_cost_curve = pd.read_csv(\"../figure/DRP_avg_aucc_cost_curve_0.15.csv\")\n",
    "rDRP_avg_aucc_cost_curve = pd.read_csv(\"../figure/rDRP_avg_aucc_cost_curve_0.15.csv\")\n",
    "\n",
    "DRP_aucc = np.sum(DRP_avg_aucc_cost_curve['delta_reward'].values) / (DRP_avg_aucc_cost_curve['delta_reward'].values[-1] * 201)\n",
    "rDRP_aucc = np.sum(rDRP_avg_aucc_cost_curve['delta_reward'].values) / (rDRP_avg_aucc_cost_curve['delta_reward'].values[-1] * 201)\n",
    "\n",
    "# output data results\n",
    "print(f\"DRP aucc: {DRP_aucc:.4f}\")\n",
    "print(f\"rDRP aucc: {rDRP_aucc:.4f}\")\n",
    "improve = 100*(rDRP_aucc - DRP_aucc)/DRP_aucc\n",
    "print(f\"{improve:.2f}%\")\n",
    "\n",
    "np.sum(rDRP_avg_aucc_cost_curve['delta_reward'].values) / (rDRP_avg_aucc_cost_curve['delta_reward'].values[-1] * 201)\n",
    "\n",
    "x_index = DRP_avg_aucc_cost_curve['delta_cost'].values\n",
    "y_random = DRP_avg_aucc_cost_curve['delta_reward'].values[-1] / x_index[-1] * x_index\n",
    "\n",
    "x_normalization = x_index[-1]\n",
    "y_normalization = DRP_avg_aucc_cost_curve['delta_reward'].values[-1]\n",
    "\n",
    "\n",
    "# random\n",
    "plt.plot(x_index / x_normalization, y_random / y_normalization, color='#000000', label='Random', linewidth=1.5)\n",
    "\n",
    "# DRP\n",
    "plt.plot(x_index / x_normalization, DRP_avg_aucc_cost_curve['delta_reward'].values / y_normalization, color='#FBB454', label='DRP', linewidth=1.5)\n",
    "\n",
    "# rDPR\n",
    "plt.plot(x_index / x_normalization, rDRP_avg_aucc_cost_curve['delta_reward'].values / y_normalization, color='#40a368', label='rDRP', linewidth=1.5)\n",
    "\n",
    "\n",
    "plt.title('Insufficient data and No covariate shift')\n",
    "\n",
    "\n",
    "plt.xlabel('Incremental cost', fontsize=12, fontweight='bold')\n",
    "plt.ylabel('Incremental reward', fontsize=12, fontweight='bold')\n",
    "\n",
    "plt.xticks(fontsize=12)\n",
    "plt.yticks(fontsize=12)\n",
    "\n",
    "plt.legend()\n",
    "plt.grid(True)\n",
    "plt.tight_layout()\n",
    "\n",
    "\n",
    "# Save and display the figure\n",
    "\n",
    "plt.savefig('../figure/no_shift_0.15.pdf', format='pdf', bbox_inches = 'tight')\n",
    "plt.show()\n"
   ]
  },
  {
   "cell_type": "code",
   "execution_count": null,
   "id": "0ee13ea3-7d6f-4d1c-9acf-d61bc7abbd54",
   "metadata": {},
   "outputs": [],
   "source": []
  },
  {
   "cell_type": "code",
   "execution_count": null,
   "id": "53227c82-2ac5-44cc-b9db-491a7f7553be",
   "metadata": {},
   "outputs": [],
   "source": []
  }
 ],
 "metadata": {
  "kernelspec": {
   "display_name": "Python 3 (ipykernel)",
   "language": "python",
   "name": "python3"
  },
  "language_info": {
   "codemirror_mode": {
    "name": "ipython",
    "version": 3
   },
   "file_extension": ".py",
   "mimetype": "text/x-python",
   "name": "python",
   "nbconvert_exporter": "python",
   "pygments_lexer": "ipython3",
   "version": "3.10.13"
  }
 },
 "nbformat": 4,
 "nbformat_minor": 5
}
